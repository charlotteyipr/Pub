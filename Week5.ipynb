{
  "nbformat": 4,
  "nbformat_minor": 0,
  "metadata": {
    "colab": {
      "provenance": [],
      "authorship_tag": "ABX9TyMJfNrUie3Q1OTH9P9czkiJ",
      "include_colab_link": true
    },
    "kernelspec": {
      "name": "python3",
      "display_name": "Python 3"
    },
    "language_info": {
      "name": "python"
    }
  },
  "cells": [
    {
      "cell_type": "markdown",
      "metadata": {
        "id": "view-in-github",
        "colab_type": "text"
      },
      "source": [
        "<a href=\"https://colab.research.google.com/github/charlotteyipr/Pub/blob/main/Week5.ipynb\" target=\"_parent\"><img src=\"https://colab.research.google.com/assets/colab-badge.svg\" alt=\"Open In Colab\"/></a>"
      ]
    },
    {
      "cell_type": "markdown",
      "source": [
        "#1 How do you assess the statistical significance of an insight?\n",
        "Clearly Define the Hypotheses:Null Hypothesis (H0) and Alternative Hypothesis (Ha). Then choose a Statistical Test and set a Significance Level (alpha). For example, t-test, ANOVA or chi-square test.\n",
        "Collect and Analyze Data: Collect the necessary data and perform the chosen statistical test. Then determine the p-value: The p-value is the probability of observing a test statistic as extreme as, or more extreme than, the statistic computed from the sample, assuming that the null hypothesis is true.\n",
        "Finally make a Decision. If the p-value is less than or equal to alpha, you reject the null hypothesis in favor of the alternative hypothesis, and the result is considered statistically significant. If the p-value is greater than alpha, you fail to reject the null hypothesis, suggesting that the observed insight might have arisen by random chance.\n"
      ],
      "metadata": {
        "id": "Ojvql0jSt82y"
      }
    },
    {
      "cell_type": "markdown",
      "source": [
        "#2 What is the Central Limit Theorem? Explain it. Why is it important?\n",
        "The Central Limit Theorem states that, given certain conditions, the arithmetic mean of a sufficiently large number of iterates (samples) of independent random variables, each with a well-defined (but possibly different) expected value and a well-defined (but possibly different) variance, will be approximately normally distributed, regardless of the underlying distribution of the random variable.\n",
        "\n",
        "Importance:\n",
        "Many statistical methods and tests assume that data is normally distributed. Even if the original data isn't normal, the CLT allows us to use these methods when we're dealing with large samples.  \n",
        "\n",
        "Even if we're working with non-normal distributions, the CLT allows us to make predictions about the behavior of sample means. This is particularly useful in inferential statistics where we make generalizations about populations based on samples.\n"
      ],
      "metadata": {
        "id": "bUfC-JhLuCa1"
      }
    },
    {
      "cell_type": "markdown",
      "source": [
        "#3 What is the statistical power?   \n",
        "Statistical power, often simply referred to as \"power,\" is the probability that a statistical test will correctly reject a false null hypothesis (H0). In other words, it's the ability of a test to detect an effect, given that an effect actually exists."
      ],
      "metadata": {
        "id": "W3JAv5q1pS2p"
      }
    },
    {
      "cell_type": "markdown",
      "source": [
        "#4. How do you control for biases?\n",
        "Randomization:\n",
        "In experimental research, random assignment of participants to different groups ensures that any potential confounding variables are equally distributed, reducing the chance that they will systematically influence results. Random sampling from a population ensures that the sample is representative, reducing selection bias.  \n",
        "  \n",
        "Control Groups: Using a control group that does not receive the treatment (or receives a placebo) allows researchers to compare outcomes and account for effects that aren't due to the independent variable."
      ],
      "metadata": {
        "id": "8Owr4ZpapR0c"
      }
    },
    {
      "cell_type": "markdown",
      "source": [
        "#5. What are confounding variables?\n",
        "Confounding variables, often simply referred to as confounders, are variables that can cause or prevent the outcome of interest, are not intermediate variables, and are associated with the factor under investigation. They can interfere with the observed relationship between the independent variable (the variable you're interested in) and the dependent variable (the outcome or effect)."
      ],
      "metadata": {
        "id": "9XGyzTcRpnZQ"
      }
    },
    {
      "cell_type": "markdown",
      "source": [
        "# 6 What is A/B testing?  \n",
        " A/B testing, also known as split testing, is a method of comparing two versions of a webpage or app against each other to determine which one performs better in terms of a specific metric, such as click-through rate, conversion rate, or any other key performance indicator (KPI). The goal is to identify changes that increase the likelihood of a user taking a desired action."
      ],
      "metadata": {
        "id": "Ux_tT7r9p_5Q"
      }
    },
    {
      "cell_type": "markdown",
      "source": [
        "# 7 What are confidence intervals?\n",
        "Confidence intervals (CIs) provide a range of values used to estimate a population parameter. They give an interval estimate that offers more information than a single-point estimate (like a sample mean). The confidence interval essentially tells us where we can expect the true population parameter to lie, with a certain level of confidence."
      ],
      "metadata": {
        "id": "QUjlWZNzqHlu"
      }
    }
  ]
}