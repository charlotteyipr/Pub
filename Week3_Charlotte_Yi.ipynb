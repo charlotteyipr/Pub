{
  "nbformat": 4,
  "nbformat_minor": 0,
  "metadata": {
    "colab": {
      "provenance": []
    },
    "kernelspec": {
      "name": "python3",
      "display_name": "Python 3"
    },
    "language_info": {
      "name": "python"
    }
  },
  "cells": [
    {
      "cell_type": "code",
      "execution_count": 2,
      "metadata": {
        "id": "ic-bYMFvslxN"
      },
      "outputs": [],
      "source": [
        "import numpy as np"
      ]
    },
    {
      "cell_type": "code",
      "source": [
        "#1\n",
        "x = np.array([1, 2, 3])\n",
        "y = np.array([[9, 8, 7], [6, 5, 4]])\n",
        "z = np.array([2,3,4])\n",
        "a1 = np.vstack([x, y])\n",
        "print(a1)\n",
        "a2 = np.hstack([x, z])\n",
        "print(a2)"
      ],
      "metadata": {
        "colab": {
          "base_uri": "https://localhost:8080/"
        },
        "id": "ejq2IXx9WqbB",
        "outputId": "bc30db27-a507-4bb8-c17a-b4b4b80e0ae4"
      },
      "execution_count": 6,
      "outputs": [
        {
          "output_type": "stream",
          "name": "stdout",
          "text": [
            "[[1 2 3]\n",
            " [9 8 7]\n",
            " [6 5 4]]\n",
            "[1 2 3 2 3 4]\n"
          ]
        }
      ]
    },
    {
      "cell_type": "code",
      "source": [
        "#2\n",
        "A = np.array([1, 2, 3, 4, 5])\n",
        "B = np.array([3, 4, 5, 6, 7])\n",
        "intersection_set = set(A).intersection(B)\n",
        "common_elements = np.array(list(intersection_set))\n",
        "print(\"Common Elements:\", common_elements)"
      ],
      "metadata": {
        "colab": {
          "base_uri": "https://localhost:8080/"
        },
        "id": "g1_7RmSqXsCL",
        "outputId": "cda7c786-f2b4-4c78-db7c-0ba4ac65a97d"
      },
      "execution_count": 7,
      "outputs": [
        {
          "output_type": "stream",
          "name": "stdout",
          "text": [
            "Common Elements: [3 4 5]\n"
          ]
        }
      ]
    },
    {
      "cell_type": "code",
      "source": [
        "#3\n",
        "A = np.array([2, 6, 8, 3, 10, 12, 7, 5])\n",
        "mask = (A >= 5) & (A <= 10)\n",
        "filtered_elements = A[mask]\n",
        "print(\"Elements within the range:\", filtered_elements)"
      ],
      "metadata": {
        "colab": {
          "base_uri": "https://localhost:8080/"
        },
        "id": "Pq8NgDbWX1_T",
        "outputId": "470ce72c-00c7-4602-bcf3-c84bf1239fe6"
      },
      "execution_count": 8,
      "outputs": [
        {
          "output_type": "stream",
          "name": "stdout",
          "text": [
            "Elements within the range: [ 6  8 10  7  5]\n"
          ]
        }
      ]
    },
    {
      "cell_type": "code",
      "source": [
        "#4\n",
        "url = 'https://archive.ics.uci.edu/ml/machine-learning-databases/iris/iris.data'\n",
        "iris_2d = np.genfromtxt(url, delimiter=',', dtype='float', usecols=[0, 1, 2, 3])\n",
        "petal_length_condition = iris_2d[:, 2] > 1.5\n",
        "sepal_length_condition = iris_2d[:, 0] < 5.0\n",
        "filtered_rows = iris_2d[petal_length_condition & sepal_length_condition]\n",
        "print(filtered_rows)"
      ],
      "metadata": {
        "colab": {
          "base_uri": "https://localhost:8080/"
        },
        "id": "UFd-a_OOYNLN",
        "outputId": "dacafdb5-1e5b-42d4-b8b2-249d7cb61a30"
      },
      "execution_count": 9,
      "outputs": [
        {
          "output_type": "stream",
          "name": "stdout",
          "text": [
            "[[4.8 3.4 1.6 0.2]\n",
            " [4.8 3.4 1.9 0.2]\n",
            " [4.7 3.2 1.6 0.2]\n",
            " [4.8 3.1 1.6 0.2]\n",
            " [4.9 2.4 3.3 1. ]\n",
            " [4.9 2.5 4.5 1.7]]\n"
          ]
        }
      ]
    },
    {
      "cell_type": "code",
      "source": [
        "import pandas as pd"
      ],
      "metadata": {
        "id": "401zzvgkY1ga"
      },
      "execution_count": 11,
      "outputs": []
    },
    {
      "cell_type": "code",
      "source": [
        "#1\n",
        "df = pd.read_csv('https://raw.githubusercontent.com/selva86/datasets/master/Cars93_miss.csv')\n",
        "filtered_data = df.iloc[::20, [0, 2, 4]]\n",
        "print(filtered_data)"
      ],
      "metadata": {
        "colab": {
          "base_uri": "https://localhost:8080/"
        },
        "id": "WGbLTiN-Y5Gg",
        "outputId": "e5511c4d-1599-4868-c95b-85ef7e3fbc5c"
      },
      "execution_count": 12,
      "outputs": [
        {
          "output_type": "stream",
          "name": "stdout",
          "text": [
            "   Manufacturer     Type  Price\n",
            "0         Acura    Small   15.9\n",
            "20     Chrysler  Compact   15.8\n",
            "40        Honda   Sporty   19.8\n",
            "60      Mercury  Midsize   14.9\n",
            "80       Subaru    Small   10.9\n"
          ]
        }
      ]
    },
    {
      "cell_type": "code",
      "source": [
        "#2\n",
        "df = pd.read_csv('https://raw.githubusercontent.com/selva86/datasets/master/Cars93_miss.csv')\n",
        "min_price_mean = df['Min.Price'].mean()\n",
        "max_price_mean = df['Max.Price'].mean()\n",
        "df['Min.Price'].fillna(min_price_mean, inplace=True)\n",
        "df['Max.Price'].fillna(max_price_mean, inplace=True)\n",
        "print(df)"
      ],
      "metadata": {
        "colab": {
          "base_uri": "https://localhost:8080/"
        },
        "id": "CdoAPcYwZCJS",
        "outputId": "87f31588-1a37-4974-8305-6e1027ddfd35"
      },
      "execution_count": 13,
      "outputs": [
        {
          "output_type": "stream",
          "name": "stdout",
          "text": [
            "   Manufacturer    Model     Type  Min.Price  Price  Max.Price  MPG.city  \\\n",
            "0         Acura  Integra    Small  12.900000   15.9  18.800000      25.0   \n",
            "1           NaN   Legend  Midsize  29.200000   33.9  38.700000      18.0   \n",
            "2          Audi       90  Compact  25.900000   29.1  32.300000      20.0   \n",
            "3          Audi      100  Midsize  17.118605   37.7  44.600000      19.0   \n",
            "4           BMW     535i  Midsize  17.118605   30.0  21.459091      22.0   \n",
            "..          ...      ...      ...        ...    ...        ...       ...   \n",
            "88   Volkswagen  Eurovan      Van  16.600000   19.7  22.700000      17.0   \n",
            "89   Volkswagen   Passat  Compact  17.600000   20.0  22.400000      21.0   \n",
            "90   Volkswagen  Corrado   Sporty  22.900000   23.3  23.700000      18.0   \n",
            "91        Volvo      240  Compact  21.800000   22.7  23.500000      21.0   \n",
            "92          NaN      850  Midsize  24.800000   26.7  28.500000      20.0   \n",
            "\n",
            "    MPG.highway             AirBags DriveTrain  ... Passengers  Length  \\\n",
            "0          31.0                None      Front  ...        5.0   177.0   \n",
            "1          25.0  Driver & Passenger      Front  ...        5.0   195.0   \n",
            "2          26.0         Driver only      Front  ...        5.0   180.0   \n",
            "3          26.0  Driver & Passenger        NaN  ...        6.0   193.0   \n",
            "4          30.0                 NaN       Rear  ...        4.0   186.0   \n",
            "..          ...                 ...        ...  ...        ...     ...   \n",
            "88         21.0                None      Front  ...        7.0   187.0   \n",
            "89         30.0                None      Front  ...        5.0   180.0   \n",
            "90         25.0                None      Front  ...        4.0   159.0   \n",
            "91         28.0         Driver only       Rear  ...        5.0   190.0   \n",
            "92         28.0  Driver & Passenger      Front  ...        5.0   184.0   \n",
            "\n",
            "    Wheelbase  Width  Turn.circle Rear.seat.room  Luggage.room  Weight  \\\n",
            "0       102.0   68.0         37.0           26.5           NaN  2705.0   \n",
            "1       115.0   71.0         38.0           30.0          15.0  3560.0   \n",
            "2       102.0   67.0         37.0           28.0          14.0  3375.0   \n",
            "3       106.0    NaN         37.0           31.0          17.0  3405.0   \n",
            "4       109.0   69.0         39.0           27.0          13.0  3640.0   \n",
            "..        ...    ...          ...            ...           ...     ...   \n",
            "88      115.0   72.0         38.0           34.0           NaN  3960.0   \n",
            "89      103.0   67.0         35.0           31.5          14.0  2985.0   \n",
            "90       97.0   66.0         36.0           26.0          15.0  2810.0   \n",
            "91      104.0   67.0         37.0           29.5          14.0  2985.0   \n",
            "92      105.0   69.0         38.0           30.0          15.0  3245.0   \n",
            "\n",
            "     Origin                Make  \n",
            "0   non-USA       Acura Integra  \n",
            "1   non-USA        Acura Legend  \n",
            "2   non-USA             Audi 90  \n",
            "3   non-USA            Audi 100  \n",
            "4   non-USA            BMW 535i  \n",
            "..      ...                 ...  \n",
            "88      NaN  Volkswagen Eurovan  \n",
            "89  non-USA   Volkswagen Passat  \n",
            "90  non-USA  Volkswagen Corrado  \n",
            "91  non-USA           Volvo 240  \n",
            "92  non-USA           Volvo 850  \n",
            "\n",
            "[93 rows x 27 columns]\n"
          ]
        }
      ]
    },
    {
      "cell_type": "code",
      "source": [
        "#3\n",
        "df = pd.DataFrame(np.random.randint(10, 40, 60).reshape(-1, 4))\n",
        "print(df)\n",
        "row_sums = df.sum(axis=1)\n",
        "print(row_sums)\n",
        "rows_with_sum_gt_100 = df[row_sums > 100]\n",
        "print(rows_with_sum_gt_100)"
      ],
      "metadata": {
        "colab": {
          "base_uri": "https://localhost:8080/"
        },
        "id": "sORPlFbXZj7V",
        "outputId": "07e6b442-d157-4b3e-f327-63626abea28d"
      },
      "execution_count": 16,
      "outputs": [
        {
          "output_type": "stream",
          "name": "stdout",
          "text": [
            "     0   1   2   3\n",
            "0   14  23  22  28\n",
            "1   13  27  24  33\n",
            "2   39  17  31  29\n",
            "3   19  12  37  24\n",
            "4   21  22  26  17\n",
            "5   15  27  15  20\n",
            "6   16  26  23  22\n",
            "7   20  28  19  13\n",
            "8   18  21  30  36\n",
            "9   33  10  36  38\n",
            "10  37  31  28  37\n",
            "11  22  11  22  29\n",
            "12  36  24  39  22\n",
            "13  25  16  38  15\n",
            "14  37  19  21  31\n",
            "0      87\n",
            "1      97\n",
            "2     116\n",
            "3      92\n",
            "4      86\n",
            "5      77\n",
            "6      87\n",
            "7      80\n",
            "8     105\n",
            "9     117\n",
            "10    133\n",
            "11     84\n",
            "12    121\n",
            "13     94\n",
            "14    108\n",
            "dtype: int64\n",
            "     0   1   2   3\n",
            "2   39  17  31  29\n",
            "8   18  21  30  36\n",
            "9   33  10  36  38\n",
            "10  37  31  28  37\n",
            "12  36  24  39  22\n",
            "14  37  19  21  31\n"
          ]
        }
      ]
    }
  ]
}